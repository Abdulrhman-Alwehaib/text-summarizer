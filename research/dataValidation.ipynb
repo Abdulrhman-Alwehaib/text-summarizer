{
 "cells": [
  {
   "cell_type": "code",
   "execution_count": 13,
   "id": "6366cb19",
   "metadata": {},
   "outputs": [
    {
     "data": {
      "text/plain": [
       "'e:\\\\Cources\\\\summarizationText\\\\ENGTextSummarizer'"
      ]
     },
     "execution_count": 13,
     "metadata": {},
     "output_type": "execute_result"
    }
   ],
   "source": [
    "import os\n",
    "#os.chdir(\"../\")\n",
    "%pwd"
   ]
  },
  {
   "cell_type": "code",
   "execution_count": 14,
   "id": "2e2eddfe",
   "metadata": {},
   "outputs": [],
   "source": [
    "from dataclasses import dataclass\n",
    "from pathlib import Path\n",
    "\n",
    "@dataclass(frozen=True)\n",
    "class DataValidationConfiguration:\n",
    "    root_dir: Path\n",
    "    inputData: Path\n",
    "    STATUS_FILE: str\n",
    "    REQUIRED_FILES: str"
   ]
  },
  {
   "cell_type": "code",
   "execution_count": 15,
   "id": "4961ddfd",
   "metadata": {},
   "outputs": [],
   "source": [
    "from textSummarizer.constants.constantsValues import *\n",
    "from textSummarizer.utils.common import readYaml, createDirectories"
   ]
  },
  {
   "cell_type": "code",
   "execution_count": 16,
   "id": "a3391f2e",
   "metadata": {},
   "outputs": [],
   "source": [
    "class configurationManager:\n",
    "    def __init__(self,\n",
    "                 configFilePath=CONFIG_FILE_PATH,\n",
    "                 paramsFilePath=PARAMS_FILE_PATH):\n",
    "        self.config = readYaml(configFilePath)\n",
    "        #self.params = readYaml(paramsFilePath)\n",
    "    def getDataValidationConfiguration(self):\n",
    "        config = self.config.data_validation\n",
    "\n",
    "        return DataValidationConfiguration(\n",
    "            root_dir = config.root_dir,\n",
    "            inputData = config.inputData,\n",
    "            STATUS_FILE = config.STATUS_FILE,\n",
    "            REQUIRED_FILES = config.REQUIRED_FILES\n",
    "        )"
   ]
  },
  {
   "cell_type": "code",
   "execution_count": 20,
   "id": "17289505",
   "metadata": {},
   "outputs": [],
   "source": [
    "import yaml\n",
    "class DataValidation:\n",
    "    def __init__(self,config: DataValidationConfiguration):\n",
    "        self.config = config\n",
    "    \n",
    "\n",
    "    def validatingFiles(self):\n",
    "        try:\n",
    "            os.makedirs(self.config.root_dir,exist_ok=True)\n",
    "            print(str(self.config.inputData))\n",
    "            files = set(os.listdir(self.config.inputData))\n",
    "            requiredFiles = set(self.config.REQUIRED_FILES)\n",
    "            missingFiles = requiredFiles - files\n",
    "\n",
    "            status = {\n",
    "                \"Status\" : \"VALID\" if not missingFiles else \"INVALID\",\n",
    "                \"missingFiles\": list(missingFiles)\n",
    "            }\n",
    "\n",
    "            with open(self.config.STATUS_FILE,\"w\") as f:\n",
    "                yaml.safe_dump(status,f)\n",
    "            if missingFiles:\n",
    "                raise ValueError(\"Missing Files are: \", missingFiles)\n",
    "        except Exception as e:\n",
    "            raise e\n",
    "    def run(self):\n",
    "        self.validatingFiles()"
   ]
  },
  {
   "cell_type": "code",
   "execution_count": 21,
   "id": "4c2fce8a",
   "metadata": {},
   "outputs": [],
   "source": [
    "def runValidationPipeline():\n",
    "    try:\n",
    "\n",
    "        configManager = configurationManager()\n",
    "        validationConfig = configManager.getDataValidationConfiguration()\n",
    "        DataValidationObj = DataValidation(validationConfig)\n",
    "        DataValidationObj.run()\n",
    "    except Exception as e:\n",
    "        raise e"
   ]
  },
  {
   "cell_type": "code",
   "execution_count": 22,
   "id": "7341fc65",
   "metadata": {},
   "outputs": [
    {
     "name": "stdout",
     "output_type": "stream",
     "text": [
      "[2025-08-09 22:06:24,504 - INFO - common - yaml file config\\config.yaml loaded!]\n",
      "artifacts/data_ingestion/data\n"
     ]
    }
   ],
   "source": [
    "runValidationPipeline()"
   ]
  }
 ],
 "metadata": {
  "kernelspec": {
   "display_name": "Python 3",
   "language": "python",
   "name": "python3"
  },
  "language_info": {
   "codemirror_mode": {
    "name": "ipython",
    "version": 3
   },
   "file_extension": ".py",
   "mimetype": "text/x-python",
   "name": "python",
   "nbconvert_exporter": "python",
   "pygments_lexer": "ipython3",
   "version": "3.9.23"
  }
 },
 "nbformat": 4,
 "nbformat_minor": 5
}
