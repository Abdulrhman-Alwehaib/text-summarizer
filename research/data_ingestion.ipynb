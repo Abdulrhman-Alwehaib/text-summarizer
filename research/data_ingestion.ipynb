{
 "cells": [
  {
   "cell_type": "code",
   "execution_count": 1,
   "id": "adbf987b",
   "metadata": {},
   "outputs": [],
   "source": [
    "import os"
   ]
  },
  {
   "cell_type": "code",
   "execution_count": 2,
   "id": "d9208f57",
   "metadata": {},
   "outputs": [
    {
     "data": {
      "text/plain": [
       "'e:\\\\Cources\\\\summarizationText\\\\ENGTextSummarizer\\\\research'"
      ]
     },
     "execution_count": 2,
     "metadata": {},
     "output_type": "execute_result"
    }
   ],
   "source": [
    "%pwd"
   ]
  },
  {
   "cell_type": "code",
   "execution_count": 3,
   "id": "6f271d8a",
   "metadata": {},
   "outputs": [],
   "source": [
    "os.chdir(\"../\")"
   ]
  },
  {
   "cell_type": "code",
   "execution_count": 4,
   "id": "8d70f01f",
   "metadata": {},
   "outputs": [
    {
     "data": {
      "text/plain": [
       "'e:\\\\Cources\\\\summarizationText\\\\ENGTextSummarizer'"
      ]
     },
     "execution_count": 4,
     "metadata": {},
     "output_type": "execute_result"
    }
   ],
   "source": [
    "%pwd"
   ]
  },
  {
   "cell_type": "code",
   "execution_count": 5,
   "id": "b7f5c297",
   "metadata": {},
   "outputs": [],
   "source": [
    "from dataclasses import dataclass\n",
    "from pathlib import Path\n",
    "\n",
    "@dataclass(frozen=True)\n",
    "class DataIngestionConfiguration:\n",
    "    root_dir: Path\n",
    "    source_URL_hugging_face: str\n",
    "    localDataFolder: Path"
   ]
  },
  {
   "cell_type": "code",
   "execution_count": 6,
   "id": "056bb59d",
   "metadata": {},
   "outputs": [],
   "source": [
    "from textSummarizer.constants.constantsValues import *\n",
    "from textSummarizer.utils.common import readYaml, createDirectories"
   ]
  },
  {
   "cell_type": "code",
   "execution_count": 15,
   "id": "d02a1e4d",
   "metadata": {},
   "outputs": [],
   "source": [
    "class configurationManager:\n",
    "    def __init__(self,\n",
    "                 configFilePath=CONFIG_FILE_PATH,\n",
    "                 paramsFilePath=PARAMS_FILE_PATH):\n",
    "        self.config = readYaml(configFilePath)\n",
    "        #self.params = readYaml(paramsFilePath)\n",
    "\n",
    "    def getDataIngestionConfig(self) -> DataIngestionConfiguration:\n",
    "        config = self.config.data_ingestion\n",
    "\n",
    "        return DataIngestionConfiguration(\n",
    "            root_dir = config.root_dir,\n",
    "            source_URL_hugging_face = config.source_URL_hugging_face,\n",
    "            localDataFolder = config.localDataFolder\n",
    "        )\n",
    "\n",
    "    "
   ]
  },
  {
   "cell_type": "code",
   "execution_count": 8,
   "id": "f9a0ddd9",
   "metadata": {},
   "outputs": [
    {
     "name": "stdout",
     "output_type": "stream",
     "text": [
      "[2025-08-09 17:33:46,818 - INFO - config - TensorFlow version 2.10.1 available.]\n"
     ]
    },
    {
     "name": "stderr",
     "output_type": "stream",
     "text": [
      "e:\\Cources\\summarizationText\\ENGTextSummarizer\\env\\lib\\site-packages\\tqdm\\auto.py:21: TqdmWarning: IProgress not found. Please update jupyter and ipywidgets. See https://ipywidgets.readthedocs.io/en/stable/user_install.html\n",
      "  from .autonotebook import tqdm as notebook_tqdm\n"
     ]
    }
   ],
   "source": [
    "from textSummarizer.loggining.logger import loggerInstance\n",
    "from datasets import load_dataset"
   ]
  },
  {
   "cell_type": "code",
   "execution_count": 9,
   "id": "0ba8956f",
   "metadata": {},
   "outputs": [],
   "source": [
    "\n",
    "class DataIngestion:\n",
    "    def __init__(self,config: DataIngestionConfiguration):\n",
    "        self.config = config\n",
    "    \n",
    "    def downloadData(self):\n",
    "        os.makedirs(self.config.root_dir, exist_ok=True)\n",
    "        load_dataset(self.config.source_URL_hugging_face).save_to_disk(self.config.localDataFolder)\n",
    "\n",
    "    def run(self):\n",
    "        self.downloadData()\n",
    "        \n",
    "\n",
    "        \n",
    "\n",
    "\n"
   ]
  },
  {
   "cell_type": "code",
   "execution_count": 16,
   "id": "e4fd3c9b",
   "metadata": {},
   "outputs": [
    {
     "name": "stdout",
     "output_type": "stream",
     "text": [
      "[2025-08-09 17:37:27,602 - INFO - common - yaml file config\\config.yaml loaded!]\n",
      "[2025-08-09 17:37:27,605 - INFO - common - yaml file config\\config.yaml loaded!]\n"
     ]
    },
    {
     "name": "stderr",
     "output_type": "stream",
     "text": [
      "e:\\Cources\\summarizationText\\ENGTextSummarizer\\env\\lib\\site-packages\\huggingface_hub\\file_download.py:143: UserWarning: `huggingface_hub` cache-system uses symlinks by default to efficiently store duplicated files but your machine does not support them in C:\\Users\\User\\.cache\\huggingface\\hub\\datasets--knkarthick--samsum. Caching files will still work but in a degraded version that might require more space on your disk. This warning can be disabled by setting the `HF_HUB_DISABLE_SYMLINKS_WARNING` environment variable. For more details, see https://huggingface.co/docs/huggingface_hub/how-to-cache#limitations.\n",
      "To support symlinks on Windows, you either need to activate Developer Mode or to run Python as an administrator. In order to activate developer mode, see this article: https://docs.microsoft.com/en-us/windows/apps/get-started/enable-your-device-for-development\n",
      "  warnings.warn(message)\n",
      "Generating train split: 100%|██████████| 14732/14732 [00:00<00:00, 24246.70 examples/s]\n",
      "Generating validation split: 100%|██████████| 818/818 [00:00<00:00, 55596.91 examples/s]\n",
      "Generating test split: 100%|██████████| 819/819 [00:00<00:00, 62987.24 examples/s]\n",
      "Saving the dataset (1/1 shards): 100%|██████████| 14732/14732 [00:00<00:00, 213505.75 examples/s]\n",
      "Saving the dataset (1/1 shards): 100%|██████████| 818/818 [00:00<00:00, 163549.46 examples/s]\n",
      "Saving the dataset (1/1 shards): 100%|██████████| 819/819 [00:00<00:00, 204752.64 examples/s]\n"
     ]
    }
   ],
   "source": [
    "configs = readYaml(CONFIG_FILE_PATH)\n",
    "os.makedirs(configs.artifacts_root,exist_ok=True)\n",
    "DataIngestion(configurationManager().getDataIngestionConfig()).run()"
   ]
  }
 ],
 "metadata": {
  "kernelspec": {
   "display_name": "Python 3",
   "language": "python",
   "name": "python3"
  },
  "language_info": {
   "codemirror_mode": {
    "name": "ipython",
    "version": 3
   },
   "file_extension": ".py",
   "mimetype": "text/x-python",
   "name": "python",
   "nbconvert_exporter": "python",
   "pygments_lexer": "ipython3",
   "version": "3.9.23"
  }
 },
 "nbformat": 4,
 "nbformat_minor": 5
}
